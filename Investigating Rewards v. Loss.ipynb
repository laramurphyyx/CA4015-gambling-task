{
 "cells": [
  {
   "cell_type": "markdown",
   "id": "26c63779",
   "metadata": {},
   "source": [
    "## Importing the datasets and relevant packages"
   ]
  },
  {
   "cell_type": "code",
   "execution_count": 2,
   "id": "b477c70d",
   "metadata": {},
   "outputs": [],
   "source": [
    "import pandas as pd\n",
    "import matplotlib.pyplot as plt"
   ]
  },
  {
   "cell_type": "code",
   "execution_count": 3,
   "id": "3721744f",
   "metadata": {},
   "outputs": [],
   "source": [
    "choice_95 = pd.DataFrame(pd.read_csv('data/choice_95.csv'))\n",
    "index_95 = pd.DataFrame(pd.read_csv('data/index_95.csv'))\n",
    "win_95 = pd.DataFrame(pd.read_csv('data/wi_95.csv'))\n",
    "loss_95 = pd.DataFrame(pd.read_csv('data/lo_95.csv'))"
   ]
  },
  {
   "cell_type": "markdown",
   "id": "2ab0f23d",
   "metadata": {},
   "source": [
    "## Manually checking if the rewards/losses are the same for each choice"
   ]
  },
  {
   "cell_type": "code",
   "execution_count": 32,
   "id": "2fa8ec08",
   "metadata": {},
   "outputs": [
    {
     "name": "stdout",
     "output_type": "stream",
     "text": [
      "[2, 100, 0]\n",
      "[1, 100, 0]\n",
      "[3, 50, 0]\n",
      "[4, 50, 0]\n",
      "[1, 100, 0]\n",
      "[1, 100, 0]\n",
      "[1, 100, 0]\n",
      "[4, 50, 0]\n",
      "[1, 100, 0]\n",
      "[4, 50, 0]\n",
      "[3, 50, 0]\n",
      "[4, 50, 0]\n",
      "[1, 100, 0]\n",
      "[1, 100, 0]\n",
      "[1, 100, 0]\n"
     ]
    }
   ],
   "source": [
    "for i in range(0,15):\n",
    "    print([choice_95.iloc[i,0], win_95.iloc[i,0],loss_95.iloc[i,0]])"
   ]
  },
  {
   "cell_type": "code",
   "execution_count": 29,
   "id": "154cf874",
   "metadata": {},
   "outputs": [
    {
     "name": "stdout",
     "output_type": "stream",
     "text": [
      "[2, 100, 0]\n",
      "[2, 100, 0]\n",
      "[4, 50, 0]\n",
      "[3, 50, 0]\n",
      "[2, 100, 0]\n",
      "[2, 100, 0]\n",
      "[2, 100, 0]\n",
      "[2, 100, 0]\n",
      "[2, 100, 0]\n",
      "[2, 100, 0]\n",
      "[3, 50, 0]\n",
      "[4, 50, 0]\n",
      "[1, 100, 0]\n",
      "[2, 100, 0]\n",
      "[2, 100, 0]\n"
     ]
    }
   ],
   "source": [
    "for i in range(0,15):\n",
    "    print([choice_95.iloc[i,1], win_95.iloc[i,1],loss_95.iloc[i,1]])"
   ]
  },
  {
   "cell_type": "code",
   "execution_count": 30,
   "id": "d769b438",
   "metadata": {},
   "outputs": [
    {
     "name": "stdout",
     "output_type": "stream",
     "text": [
      "[2, 100, 0]\n",
      "[3, 50, 0]\n",
      "[3, 50, 0]\n",
      "[1, 100, 0]\n",
      "[3, 50, 0]\n",
      "[1, 100, 0]\n",
      "[3, 50, 0]\n",
      "[1, 100, 0]\n",
      "[1, 100, 0]\n",
      "[2, 100, 0]\n",
      "[3, 50, -50]\n",
      "[4, 50, 0]\n",
      "[4, 50, 0]\n",
      "[3, 50, 0]\n",
      "[3, 50, 0]\n"
     ]
    }
   ],
   "source": [
    "for i in range(0,15):\n",
    "    print([choice_95.iloc[i,2], win_95.iloc[i,2],loss_95.iloc[i,2]])"
   ]
  },
  {
   "cell_type": "markdown",
   "id": "4d3cc263",
   "metadata": {},
   "source": [
    "They seem to be almost identical for every player, except for player 11, who was the only one that chose the 3rd choice and received a loss of 50."
   ]
  },
  {
   "cell_type": "markdown",
   "id": "8f6c562c",
   "metadata": {},
   "source": [
    "## Deeper Analysis of Rewards v. Loss for each choice"
   ]
  },
  {
   "cell_type": "markdown",
   "id": "b3ae9b53",
   "metadata": {},
   "source": [
    "These for loops were created to check the consistency of the reward/loss value. Initial values were selected by exploring the win_95 and loss_95 tables."
   ]
  },
  {
   "cell_type": "code",
   "execution_count": 9,
   "id": "cf5b7d42",
   "metadata": {},
   "outputs": [],
   "source": [
    "for subject in range(0,15):\n",
    "    for round in range(0,95):\n",
    "        if choice_95.iloc[subject][round] == 1 and win_95.iloc[subject][round] != 100:\n",
    "            print(\"Not true for subject\" + (subject+1) + \"in round\" + round)\n",
    "        elif choice_95.iloc[subject][round] == 2 and win_95.iloc[subject][round] != 100:\n",
    "            print(\"Not true for subject\" + (subject+1) + \"in round\" + round)\n",
    "        elif choice_95.iloc[subject][round] == 3 and win_95.iloc[subject][round] != 50:\n",
    "            print(\"Not true for subject\" + (subject+1) + \"in round\" + round)\n",
    "        elif choice_95.iloc[subject][round] == 4 and win_95.iloc[subject][round] != 50:\n",
    "            print(\"Not true for subject\" + (subject+1) + \"in round\" + round)\n",
    "# No output indicates that all choices of 1 and 2 yield 100 and all choices of 3 and 4 yield 50"
   ]
  },
  {
   "cell_type": "code",
   "execution_count": 30,
   "id": "ed523c23",
   "metadata": {},
   "outputs": [],
   "source": [
    "for subject in range(0,15):\n",
    "    for round in range(0,95):\n",
    "        if choice_95.iloc[subject][round] == 1 and loss_95.iloc[subject][round] not in [0,-150,-200,-250,-300,-350]:\n",
    "            print(\"Not true for subject\" + str(subject) + \" for choice 1 in round \" + str(round) + \" with a loss of \" + str(loss_95.iloc[subject][round]))\n",
    "        if choice_95.iloc[subject][round] == 2 and loss_95.iloc[subject][round] not in [0,-1250]:\n",
    "            print(\"Not true for subject\" + str(subject) + \" for choice 2 in round \" + str(round) + \" with a loss of \" + str(loss_95.iloc[subject][round]))\n",
    "        if choice_95.iloc[subject][round] == 3 and loss_95.iloc[subject][round] not in [0,-25,-50,-75]:\n",
    "            print(\"Not true for subject\" + str(subject) + \" for choice 3 in round \" + str(round) + \" with a loss of \" + str(loss_95.iloc[subject][round]))\n",
    "        if choice_95.iloc[subject][round] == 4 and loss_95.iloc[subject][round] not in [-250,0]:\n",
    "            print(\"Not true for subject\" + str(subject) + \" for choice 4 in round \" + str(round) + \" with a loss of \" + str(loss_95.iloc[subject][round]))\n",
    "            \n",
    "# No output shows that the loss posibilities for each choice are limited"
   ]
  },
  {
   "cell_type": "markdown",
   "id": "265cd545",
   "metadata": {},
   "source": [
    "Choice 2 and 4 have  constant values for losses, at -1250 and -250 respectively\n",
    "It seems that choice 1 has a varied loss system where players are losing [-150,-200,-250,-300,-350]\n",
    "Choice 3 is also a mix of [-25,-50,-75]"
   ]
  },
  {
   "cell_type": "markdown",
   "id": "f6eb23d2",
   "metadata": {},
   "source": [
    "# Analysing the proportion of Win v. Loss per Choice"
   ]
  },
  {
   "cell_type": "markdown",
   "id": "fddfea48",
   "metadata": {},
   "source": [
    "## Choice 1"
   ]
  },
  {
   "cell_type": "code",
   "execution_count": 93,
   "id": "4c0440cb",
   "metadata": {},
   "outputs": [
    {
     "name": "stdout",
     "output_type": "stream",
     "text": [
      "times_chosen= 187\n",
      "times_loss= 92\n",
      "times_win= 187\n"
     ]
    }
   ],
   "source": [
    "times_chosen = 0\n",
    "times_loss = 0\n",
    "losses = []\n",
    "times_win = 0\n",
    "wins = []\n",
    "for subject in range(0,15):\n",
    "    for round in range(0,95):\n",
    "        choice_made = choice_95.iloc[subject][round]\n",
    "        if choice_made == 1:\n",
    "            times_chosen += 1\n",
    "            loss = loss_95.iloc[subject][round]\n",
    "            win = win_95.iloc[subject][round]\n",
    "            if loss < 0:\n",
    "                times_loss +=1\n",
    "                losses.append(loss)\n",
    "            if win > 0:\n",
    "                times_win += 1\n",
    "                wins.append(win)\n",
    "            \n",
    "print(\"times_chosen=\", times_chosen)\n",
    "print(\"times_loss=\", times_loss)\n",
    "print(\"times_win=\", times_win)"
   ]
  },
  {
   "cell_type": "code",
   "execution_count": 48,
   "id": "6911f300",
   "metadata": {},
   "outputs": [],
   "source": [
    "def freq(losses):\n",
    "    frequency = {}\n",
    "    for loss in losses:\n",
    "        if frequency.get(loss):\n",
    "            frequency[loss] += 1\n",
    "        else:\n",
    "            frequency[loss] = 1\n",
    "    return frequency"
   ]
  },
  {
   "cell_type": "code",
   "execution_count": 49,
   "id": "a0c953ba",
   "metadata": {
    "scrolled": true
   },
   "outputs": [
    {
     "data": {
      "image/png": "[encoded data removed]",
      "text/plain": [
       "<Figure size 432x288 with 1 Axes>"
      ]
     },
     "metadata": {
      "needs_background": "light"
     },
     "output_type": "display_data"
    }
   ],
   "source": [
    "frequency = freq(losses)\n",
    "loss = list(frequency.keys())\n",
    "count = list(frequency.values())\n",
    "plt.bar(range(len(frequency)), count, tick_label=loss)\n",
    "plt.show()"
   ]
  },
  {
   "cell_type": "code",
   "execution_count": 94,
   "id": "5f06d92a",
   "metadata": {},
   "outputs": [
    {
     "data": {
      "text/plain": [
       "-257.0652173913044"
      ]
     },
     "execution_count": 94,
     "metadata": {},
     "output_type": "execute_result"
    }
   ],
   "source": [
    "sum(losses)/len(losses)"
   ]
  },
  {
   "cell_type": "markdown",
   "id": "c5fff9ac",
   "metadata": {},
   "source": [
    "The players chose choice 1 in 13.13% (187/1425) of the rounds. \n",
    "\n",
    "When choosing choice 1, the players had a 49.2% (92/187) chance of making a loss.\n",
    "\n",
    "The loss made by a player was either 150, 200, 250, 300 or 350, and these were evenly distributed, with an average loss of 257.07\n",
    "\n",
    "The rewards for winning was 100 every time.\n",
    "\n",
    "The total rewards and losses made by all players combined is a winning of 18,700 and a loss of 23,650"
   ]
  },
  {
   "cell_type": "markdown",
   "id": "46a0a6b3",
   "metadata": {},
   "source": [
    "## Choice 2"
   ]
  },
  {
   "cell_type": "code",
   "execution_count": 53,
   "id": "722226fd",
   "metadata": {},
   "outputs": [
    {
     "name": "stdout",
     "output_type": "stream",
     "text": [
      "times_chosen= 425\n",
      "times_loss= 46\n",
      "times_win= 425\n"
     ]
    }
   ],
   "source": [
    "times_chosen = 0\n",
    "times_loss = 0\n",
    "losses = []\n",
    "times_win = 0\n",
    "wins = []\n",
    "for subject in range(0,15):\n",
    "    for round in range(0,95):\n",
    "        choice_made = choice_95.iloc[subject][round]\n",
    "        if choice_made == 2:\n",
    "            times_chosen += 1\n",
    "            loss = loss_95.iloc[subject][round]\n",
    "            win = win_95.iloc[subject][round]\n",
    "            if loss < 0:\n",
    "                times_loss +=1\n",
    "                losses.append(loss)\n",
    "            if win > 0:\n",
    "                times_win += 1\n",
    "                wins.append(win)\n",
    "            \n",
    "print(\"times_chosen=\", times_chosen)\n",
    "print(\"times_loss=\", times_loss)\n",
    "print(\"times_win=\", times_win)"
   ]
  },
  {
   "cell_type": "markdown",
   "id": "d47f0dc4",
   "metadata": {},
   "source": [
    "The players chose choice 2 in 29.82% (425/1425) of the rounds. \n",
    "\n",
    "When choosing choice 2, the players had a 10.82% (46/425) chance of making a loss.\n",
    "\n",
    "The rewards for winning was 100 every time, and the loss made was always 1250.\n",
    "\n",
    "The total rewards and losses made by all players combined is a winning of 42,500 and a loss of 57,500"
   ]
  },
  {
   "cell_type": "markdown",
   "id": "93f50a3f",
   "metadata": {},
   "source": [
    "## Choice 3"
   ]
  },
  {
   "cell_type": "code",
   "execution_count": 90,
   "id": "6e951c3e",
   "metadata": {},
   "outputs": [
    {
     "name": "stdout",
     "output_type": "stream",
     "text": [
      "times_chosen= 194\n",
      "times_loss= 92\n",
      "times_win= 194\n"
     ]
    }
   ],
   "source": [
    "times_chosen = 0\n",
    "times_loss = 0\n",
    "losses = []\n",
    "times_win = 0\n",
    "wins = []\n",
    "for subject in range(0,15):\n",
    "    for round in range(0,95):\n",
    "        choice_made = choice_95.iloc[subject][round]\n",
    "        if choice_made == 3:\n",
    "            times_chosen += 1\n",
    "            loss = loss_95.iloc[subject][round]\n",
    "            win = win_95.iloc[subject][round]\n",
    "            if loss < 0:\n",
    "                times_loss +=1\n",
    "                losses.append(loss)\n",
    "            if win > 0:\n",
    "                times_win += 1\n",
    "                wins.append(win)\n",
    "            \n",
    "print(\"times_chosen=\", times_chosen)\n",
    "print(\"times_loss=\", times_loss)\n",
    "print(\"times_win=\", times_win)"
   ]
  },
  {
   "cell_type": "code",
   "execution_count": 91,
   "id": "21592a4b",
   "metadata": {},
   "outputs": [
    {
     "data": {
      "image/png": "[encoded data removed]",
      "text/plain": [
       "<Figure size 432x288 with 1 Axes>"
      ]
     },
     "metadata": {
      "needs_background": "light"
     },
     "output_type": "display_data"
    }
   ],
   "source": [
    "frequency = freq(losses)\n",
    "loss = list(frequency.keys())\n",
    "count = list(frequency.values())\n",
    "plt.bar(range(len(frequency)), count, tick_label=loss)\n",
    "plt.show()"
   ]
  },
  {
   "cell_type": "code",
   "execution_count": 92,
   "id": "9acb0142",
   "metadata": {},
   "outputs": [
    {
     "data": {
      "text/plain": [
       "-48.369565217391305"
      ]
     },
     "execution_count": 92,
     "metadata": {},
     "output_type": "execute_result"
    }
   ],
   "source": [
    "sum(losses)/len(losses)"
   ]
  },
  {
   "cell_type": "markdown",
   "id": "a497183f",
   "metadata": {},
   "source": [
    "The players chose choice 3 in 13.61% (194/1425) of the rounds. \n",
    "\n",
    "When choosing choice 3, the players had a 47.42% (92/194) chance of making a loss\n",
    ".\n",
    "\n",
    "The loss made by a player was either 25, 50 or 75, and the loss was 50 almost 70% of the time, with an avergae loss of 48.37\n",
    "\n",
    "The rewards for winning was 50 every time.\n",
    "\n",
    "The total rewards and losses made by all players combined is a winning of 9,700 and a loss of 4,450"
   ]
  },
  {
   "cell_type": "markdown",
   "id": "0bb402b4",
   "metadata": {},
   "source": [
    "## Choice 4"
   ]
  },
  {
   "cell_type": "code",
   "execution_count": 70,
   "id": "2fa37a7a",
   "metadata": {},
   "outputs": [
    {
     "name": "stdout",
     "output_type": "stream",
     "text": [
      "times_chosen= 619\n",
      "times_loss= 60\n",
      "times_win= 619\n"
     ]
    }
   ],
   "source": [
    "times_chosen = 0\n",
    "times_loss = 0\n",
    "losses = []\n",
    "times_win = 0\n",
    "wins = []\n",
    "for subject in range(0,15):\n",
    "    for round in range(0,95):\n",
    "        choice_made = choice_95.iloc[subject][round]\n",
    "        if choice_made == 4:\n",
    "            times_chosen += 1\n",
    "            loss = loss_95.iloc[subject][round]\n",
    "            win = win_95.iloc[subject][round]\n",
    "            if loss < 0:\n",
    "                times_loss +=1\n",
    "                losses.append(loss)\n",
    "            if win > 0:\n",
    "                times_win += 1\n",
    "                wins.append(win)\n",
    "            \n",
    "print(\"times_chosen=\", times_chosen)\n",
    "print(\"times_loss=\", times_loss)\n",
    "print(\"times_win=\", times_win)"
   ]
  },
  {
   "cell_type": "markdown",
   "id": "a3d8ba3e",
   "metadata": {},
   "source": [
    "The players chose choice 4 in 43.44% (619/1425) of the rounds. \n",
    "\n",
    "When choosing choice 4, the players had a 9.69% (60/619) chance of making a loss.\n",
    "\n",
    "The rewards for winning was 50 every time, and the loss made was always 250.\n",
    "\n",
    "The total rewards and losses made by all players combined is a winning of 30,950 and a loss of 15,000"
   ]
  },
  {
   "cell_type": "markdown",
   "id": "c7312711",
   "metadata": {},
   "source": [
    "## Overall Comparison"
   ]
  },
  {
   "cell_type": "code",
   "execution_count": 100,
   "id": "64100fce",
   "metadata": {},
   "outputs": [],
   "source": [
    "times_chosen = {1:13.13, 2:29.82, 3:13.61, 4:43.44}"
   ]
  },
  {
   "cell_type": "code",
   "execution_count": 101,
   "id": "23feb662",
   "metadata": {},
   "outputs": [
    {
     "data": {
      "image/png": "[encoded data removed]",
      "text/plain": [
       "<Figure size 432x288 with 1 Axes>"
      ]
     },
     "metadata": {
      "needs_background": "light"
     },
     "output_type": "display_data"
    }
   ],
   "source": [
    "choice = list(times_chosen.keys())\n",
    "proportion = list(times_chosen.values())\n",
    "plt.bar(range(len(times_chosen)), proportion, tick_label=choice)\n",
    "plt.title(\"Proportion of Choices Made\")\n",
    "plt.show()"
   ]
  },
  {
   "cell_type": "code",
   "execution_count": 87,
   "id": "bb12c304",
   "metadata": {},
   "outputs": [],
   "source": [
    "risk_loss = {1:49.2, 2:10.82, 3:47.42, 4:9.69}"
   ]
  },
  {
   "cell_type": "code",
   "execution_count": 98,
   "id": "83e88350",
   "metadata": {},
   "outputs": [
    {
     "data": {
      "image/png": "[encoded data removed]",
      "text/plain": [
       "<Figure size 432x288 with 1 Axes>"
      ]
     },
     "metadata": {
      "needs_background": "light"
     },
     "output_type": "display_data"
    }
   ],
   "source": [
    "choice = list(risk_loss.keys())\n",
    "risk = list(risk_loss.values())\n",
    "plt.bar(range(len(risk_loss)), risk, tick_label=choice)\n",
    "plt.title(\"Risk of Loss per Choice Option\")\n",
    "plt.show()"
   ]
  },
  {
   "cell_type": "code",
   "execution_count": 106,
   "id": "6e1857b3",
   "metadata": {},
   "outputs": [],
   "source": [
    "avg_loss = {1:23650/187, \n",
    "            2:57500/425,\n",
    "            3:4450/194,\n",
    "            4:15000/619}"
   ]
  },
  {
   "cell_type": "code",
   "execution_count": 107,
   "id": "f548b9e4",
   "metadata": {},
   "outputs": [
    {
     "data": {
      "image/png": "[encoded data removed]",
      "text/plain": [
       "<Figure size 432x288 with 1 Axes>"
      ]
     },
     "metadata": {
      "needs_background": "light"
     },
     "output_type": "display_data"
    }
   ],
   "source": [
    "choice = list(avg_loss.keys())\n",
    "avg = list(avg_loss.values())\n",
    "plt.bar(range(len(avg_loss)), avg, tick_label=choice)\n",
    "plt.title(\"Average Loss per Choice Option\")\n",
    "plt.show()"
   ]
  },
  {
   "cell_type": "code",
   "execution_count": 104,
   "id": "7797586b",
   "metadata": {},
   "outputs": [],
   "source": [
    "profit = {1:(18700-23650)/187,\n",
    "          2:(42500-57500)/425,\n",
    "          3:(9700-4450)/194,\n",
    "          4:(30950-15000)/619}"
   ]
  },
  {
   "cell_type": "code",
   "execution_count": 105,
   "id": "d6817390",
   "metadata": {},
   "outputs": [
    {
     "data": {
      "image/png": "[encoded data removed]",
      "text/plain": [
       "<Figure size 432x288 with 1 Axes>"
      ]
     },
     "metadata": {
      "needs_background": "light"
     },
     "output_type": "display_data"
    }
   ],
   "source": [
    "choice = list(profit.keys())\n",
    "profits = list(profit.values())\n",
    "plt.bar(range(len(profit)), profits, tick_label=choice)\n",
    "plt.title(\"Average Profit per Choice Option\")\n",
    "plt.show()"
   ]
  },
  {
   "cell_type": "code",
   "execution_count": null,
   "id": "a04e1412",
   "metadata": {},
   "outputs": [],
   "source": []
  }
 ],
 "metadata": {
  "kernelspec": {
   "display_name": "Python 3 (ipykernel)",
   "language": "python",
   "name": "python3"
  },
  "language_info": {
   "codemirror_mode": {
    "name": "ipython",
    "version": 3
   },
   "file_extension": ".py",
   "mimetype": "text/x-python",
   "name": "python",
   "nbconvert_exporter": "python",
   "pygments_lexer": "ipython3",
   "version": "3.9.7"
  }
 },
 "nbformat": 4,
 "nbformat_minor": 5
}

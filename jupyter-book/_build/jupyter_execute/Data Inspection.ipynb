{
 "cells": [
  {
   "cell_type": "markdown",
   "id": "c567b346",
   "metadata": {},
   "source": [
    "# Data Inspection"
   ]
  },
  {
   "cell_type": "markdown",
   "id": "2c34bcb6",
   "metadata": {},
   "source": [
    "This is an initial inspection of the datasets. This will ensure that the data will be ready to used for clustering."
   ]
  },
  {
   "cell_type": "markdown",
   "id": "f275467d",
   "metadata": {},
   "source": [
    "## 1.    Importing relevant packages and Datasets"
   ]
  },
  {
   "cell_type": "code",
   "execution_count": 1,
   "id": "56df260c",
   "metadata": {},
   "outputs": [],
   "source": [
    "import pandas as pd\n",
    "import numpy as np\n",
    "from functions import *"
   ]
  },
  {
   "cell_type": "code",
   "execution_count": 2,
   "id": "a325012b",
   "metadata": {},
   "outputs": [],
   "source": [
    "choice_95 = pd.DataFrame(pd.read_csv('../data/choice_95.csv'))\n",
    "win_95 = pd.DataFrame(pd.read_csv('../data/wi_95.csv'))\n",
    "loss_95 = pd.DataFrame(pd.read_csv('../data/lo_95.csv'))\n",
    "\n",
    "choice_100 = pd.DataFrame(pd.read_csv('../data/choice_100.csv'))\n",
    "win_100 = pd.DataFrame(pd.read_csv('../data/wi_100.csv'))\n",
    "loss_100 = pd.DataFrame(pd.read_csv('../data/lo_100.csv'))\n",
    "\n",
    "choice_150 = pd.DataFrame(pd.read_csv('../data/choice_150.csv'))\n",
    "win_150 = pd.DataFrame(pd.read_csv('../data/wi_150.csv'))\n",
    "loss_150 = pd.DataFrame(pd.read_csv('../data/lo_150.csv'))"
   ]
  },
  {
   "cell_type": "markdown",
   "id": "789fcff4",
   "metadata": {},
   "source": [
    "## 2.    Ensuring Data is Clean"
   ]
  },
  {
   "cell_type": "markdown",
   "id": "31710e24",
   "metadata": {},
   "source": [
    "It is important to check that the data is clean so it can be processed correctly for analysis.\n",
    "\n",
    "This includes checking that the data is accurate, that there are no structural errors in the data, that there are no null values and investigating outliers or duplicate values.\n",
    "\n",
    "The data seems to be reliable, as they are all results from studies performed in the papers listed [here](https://openpsychologydata.metajnl.com/articles/10.5334/jopd.ak/). \n",
    "\n",
    "All of the datasets seem to be inherent of identical structures, with 'Choice_{number}', 'Wins_{number}' and 'Losses_{number}' as the column names for the choices, wins and losses datasets respectively. The row names in all datasets follow the same structure also, being 'Subj_{number}'\n",
    "\n",
    "The code snippets below examine the datasets for outliers and duplicate rows and ensure they are all the same type."
   ]
  },
  {
   "cell_type": "code",
   "execution_count": 3,
   "id": "8345791c",
   "metadata": {
    "scrolled": true
   },
   "outputs": [
    {
     "name": "stdout",
     "output_type": "stream",
     "text": [
      "There were 0 duplicates found.\n",
      "There were 0 duplicates found.\n",
      "There were 0 duplicates found.\n",
      "There were 3 duplicates found.\n",
      "There were 2 duplicates found.\n",
      "There were 1 duplicates found.\n",
      "There were 1 duplicates found.\n",
      "There were 0 duplicates found.\n",
      "There were 2 duplicates found.\n"
     ]
    }
   ],
   "source": [
    "datasets = [choice_95, win_95, loss_95,\n",
    "            win_100, loss_100, \n",
    "           choice_150, win_150, loss_150,\n",
    "           choice_100]\n",
    "\n",
    "for dataset in datasets:\n",
    "    check_for_null_values(dataset)\n",
    "    check_for_duplicate_rows(dataset)"
   ]
  },
  {
   "cell_type": "markdown",
   "id": "498f4d21",
   "metadata": {},
   "source": [
    "The check_for_null_values() function uses an assertion, so as there are no errors in the output, it shows that all datasets contain non-null values only.\n",
    "\n",
    "The check_for_duplicate_rows() function checks the quantity of duplicate rows. This function does not use an assertion, as it is entirely possible that two subjects participating in the task may have received the same sequence of rewards or penalties. The validity of this function is subjective, but I do not believe that there are any mistaken duplicates in these datasets."
   ]
  },
  {
   "cell_type": "code",
   "execution_count": 4,
   "id": "193ada4d",
   "metadata": {},
   "outputs": [],
   "source": [
    "check_for_outlier(choice_95, [1,2,3,4])\n",
    "check_for_outlier(choice_100, [1,2,3,4])\n",
    "check_for_outlier(choice_150, [1,2,3,4])\n",
    "\n",
    "check_for_outlier(win_95, range(0,200))\n",
    "check_for_outlier(win_100, range(0,200))\n",
    "check_for_outlier(win_150, range(0,200))\n",
    "\n",
    "check_for_outlier(loss_95, range(-3000, 1))\n",
    "check_for_outlier(loss_100, range(-3000, 1))\n",
    "check_for_outlier(loss_150, range(-3000, 1))"
   ]
  },
  {
   "cell_type": "code",
   "execution_count": 5,
   "id": "53b2c3eb",
   "metadata": {},
   "outputs": [],
   "source": [
    "check_all_data_type(choice_95, np.int64)\n",
    "check_all_data_type(choice_100, np.int64)\n",
    "check_all_data_type(choice_150, np.int64)\n",
    "\n",
    "check_all_data_type(win_95, np.int64)\n",
    "check_all_data_type(win_100, np.int64)\n",
    "check_all_data_type(win_150, np.int64)\n",
    "\n",
    "check_all_data_type(loss_95, np.int64)\n",
    "check_all_data_type(loss_100, np.int64)\n",
    "check_all_data_type(loss_150, np.int64)"
   ]
  },
  {
   "cell_type": "markdown",
   "id": "70008223",
   "metadata": {},
   "source": [
    "Both of the functions above, 'check_for_outlier()' and 'check_all_data_types()', both use assertion statements. No output shows us that all datasets are clear from outliers or mismatched data types.\n",
    "\n",
    "The datasets seem to be clean, with no inconsistent data types or structural differences, and no obvious outliers or inaccuracies."
   ]
  }
 ],
 "metadata": {
  "kernelspec": {
   "display_name": "Python 3 (ipykernel)",
   "language": "python",
   "name": "python3"
  },
  "language_info": {
   "codemirror_mode": {
    "name": "ipython",
    "version": 3
   },
   "file_extension": ".py",
   "mimetype": "text/x-python",
   "name": "python",
   "nbconvert_exporter": "python",
   "pygments_lexer": "ipython3",
   "version": "3.9.7"
  }
 },
 "nbformat": 4,
 "nbformat_minor": 5
}